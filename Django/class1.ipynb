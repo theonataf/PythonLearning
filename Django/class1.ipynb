{
 "cells": [
  {
   "cell_type": "markdown",
   "metadata": {},
   "source": [
    "## Django setup and command line tool"
   ]
  },
  {
   "cell_type": "markdown",
   "metadata": {},
   "source": [
    "1. Create directory: `mkdir name_of_dir`\n",
    "\n",
    "\n",
    "2. Install a virtual environment:\n",
    "    - if you didn't install virtualenv you should run that command : `pip3 install virtualenv`\n",
    "    - Create virtual environment : `python3 -m venv env`\n",
    "        Or `python3 -m virtualenv env` (according to what package you have)\n",
    "\n",
    "\n",
    "3. create a requirements.txt file:\n",
    "    - `touch requirements.txt`\n",
    "    - if you want to edit from the terminal just type : `vi requirements.txt`\n",
    "    - to start editing just type in i (stands for `INSERT`)\n",
    "    - then write your requirements, for now just write `django==2.2.3`\n",
    "    - to save the changes type :`esc` and `:wq` (write and quit)\n",
    "\n",
    "\n",
    "4. activate your virtual environment:\n",
    "    - activate virtual env : `source env/bin/activate`\n",
    "    - On Windows : `source env/Scripts/activate`\n",
    "\n",
    "\n",
    "5. now we'll install django inside our virtual env:\n",
    "    - `pip3 install -r requirements.txt`\n",
    "\n"
   ]
  },
  {
   "cell_type": "markdown",
   "metadata": {},
   "source": [
    "## Create a new django project"
   ]
  },
  {
   "cell_type": "markdown",
   "metadata": {},
   "source": [
    "1. We now want to create our first project. We are going to user some commands.\n",
    "    \n",
    "    - `django-admin startproject myProject` this command creates a new project inside of that project you should see a file called manage.py and a folder that has the same name as the project.\n",
    "    - now go inside if the first folder, here it would be `cd myProject`.\n",
    "\n",
    "2. Once we created the project we want to create our first app. \n",
    "\n",
    "    - You should be at the same level of directory as the manage.py file. if you need to go back one folder just run `cd ..`\n",
    "    - and now run that command: `django-admin startapp main_app`\n",
    "    - you should now see a folder called by the name of your app."
   ]
  },
  {
   "cell_type": "markdown",
   "metadata": {},
   "source": [
    "## First settings"
   ]
  },
  {
   "cell_type": "markdown",
   "metadata": {},
   "source": [
    "1. Go to the file called `settings.py` it should be located at `myProject/myProject/settings.py`\n",
    "    - You should see a list of `INSTALLED_APPS` just add the name of your app right after the other ones\n",
    "\n",
    "\n",
    "2. Go now to this file : `myProject/myProject/urls.py`:\n",
    "    - this is the paths that lead to your apps.\n",
    "    - add this modules : `from django.urls import path, include`\n",
    "    - add this line inside the urlpatterns: `path('', include('main_app.urls'))`\n",
    "        - you could also right something like this : `path('main_app/', include('main_app.urls'))`\n",
    "        - this is the url that leads to the paths of your app.\n",
    "        - it means that if you are running your website on localhost, this url : `http://localhost:8000/` (or if you wrote the other line : `http://localhost:8000/main_app/` ) will lead to the routes inside of your app. \n",
    "\n",
    "\n",
    "3. Inside of your app create a new file calle `urls.py`.\n",
    "    - inside of that file copy those line below:"
   ]
  },
  {
   "cell_type": "markdown",
   "metadata": {},
   "source": [
    "## Creating the first view"
   ]
  },
  {
   "cell_type": "code",
   "execution_count": null,
   "metadata": {},
   "outputs": [],
   "source": [
    "from django.urls import path\n",
    "from . import views\n",
    "\n",
    "app_name = 'main_app'\n",
    "\n",
    "urlpatterns = [\n",
    "]"
   ]
  },
  {
   "cell_type": "markdown",
   "metadata": {},
   "source": [
    "1. Inside of urlpatterns copy this line `path('', views.index, name='index'),`\n",
    "    - this is the first path to a view that is going to be rendered when you'll call `http://localhost:8000/`\n",
    "    \n",
    "\n",
    "2. As you can see we are calling something called `views.index`\n",
    "    - go inside your views.py file\n",
    "    - there you should create a function called index and render your first template.\n",
    "    - it should look like that:\n",
    "    "
   ]
  },
  {
   "cell_type": "code",
   "execution_count": 2,
   "metadata": {},
   "outputs": [],
   "source": [
    "def index(request):\n",
    "    return render(request, 'index.html')"
   ]
  },
  {
   "cell_type": "markdown",
   "metadata": {},
   "source": [
    "3. inside you app folder create a new directory called templates.\n",
    "\n",
    "\n",
    "4. inside this folder create a file called `index.html`\u001d",
    "\n",
    "    - write whatever html you want inside that file."
   ]
  },
  {
   "cell_type": "markdown",
   "metadata": {},
   "source": [
    "## Making the server run and seeing our view"
   ]
  },
  {
   "cell_type": "markdown",
   "metadata": {},
   "source": [
    "1. inside your terminal run those commands:\n",
    "\n",
    "- `python3 manage.py migrate`: this will create the background for the database of your website\n",
    "\n",
    "- `python3 manage.py createsuperuser` : this command will create a user that can have every rights and can access the admin view\n",
    "- `python3 manage.py runserver` : you should now see your server running.You can now see all the request and every operation that your website is going to do inside of your terminal\n",
    "\n"
   ]
  },
  {
   "cell_type": "code",
   "execution_count": null,
   "metadata": {},
   "outputs": [],
   "source": []
  }
 ],
 "metadata": {
  "kernelspec": {
   "display_name": "Python 3",
   "language": "python",
   "name": "python3"
  },
  "language_info": {
   "codemirror_mode": {
    "name": "ipython",
    "version": 3
   },
   "file_extension": ".py",
   "mimetype": "text/x-python",
   "name": "python",
   "nbconvert_exporter": "python",
   "pygments_lexer": "ipython3",
   "version": "3.7.1"
  }
 },
 "nbformat": 4,
 "nbformat_minor": 2
}
