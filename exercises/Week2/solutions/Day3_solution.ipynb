{
 "cells": [
  {
   "cell_type": "markdown",
   "metadata": {},
   "source": [
    "## Exercise 1"
   ]
  },
  {
   "cell_type": "markdown",
   "metadata": {},
   "source": [
    "### Part 1"
   ]
  },
  {
   "cell_type": "code",
   "execution_count": 2,
   "metadata": {},
   "outputs": [
    {
     "name": "stdout",
     "output_type": "stream",
     "text": [
      "[{'username': 'David', 'password': '12345', 'email': 'david@super.com', 'message_received': [], 'message_sent': []}, {'username': 'Mark', 'password': '23412', 'email': 'mark@super.com', 'message_received': [], 'message_sent': []}, {'username': 'Jacob', 'password': '23821', 'email': 'jacob@super.com', 'message_received': [], 'message_sent': []}, {'username': 'Joseph', 'password': '62797', 'email': 'joseph@super.com', 'message_received': [], 'message_sent': []}]\n"
     ]
    }
   ],
   "source": [
    "import json\n",
    "\n",
    "f = open('network.json', 'r')\n",
    "network = json.load(f)\n",
    "users = network['users']\n",
    "f.close()\n",
    "\n",
    "def create_new_user():\n",
    "    username = input('username ?')\n",
    "    password = input('password ?')\n",
    "    email = input('email ?')\n",
    "    user = {\n",
    "        \"username\": username,\n",
    "        \"password\": password,\n",
    "        \"email\": email,\n",
    "        \"message_received\":[],\n",
    "        \"message_sent\": []\n",
    "    }\n",
    "    return user\n",
    "\n",
    "\n",
    "def log_in():\n",
    "    username = input('What is your username ?')\n",
    "    password = input('What is your password ?')\n",
    "\n",
    "    for user in users:\n",
    "        if user['username'] == username:\n",
    "            for i in range(3):\n",
    "                if user['password'] == password:\n",
    "                    print('you are logged in')\n",
    "                    return user\n",
    "                else:\n",
    "                    password = input('Password wrong please enter it again ?')\n",
    "    print(\" We didn't find any user matching those credentials do you want to create one ?\")\n",
    "    answer = int(input(\"\\n\\t(1)Yes\\n\\t(2)No\"))\n",
    "    if answer == 1:\n",
    "        user = create_new_user()\n",
    "        return user\n",
    "    else:\n",
    "        return False\n",
    "\n"
   ]
  },
  {
   "cell_type": "markdown",
   "metadata": {},
   "source": [
    "### Part 2"
   ]
  },
  {
   "cell_type": "code",
   "execution_count": 7,
   "metadata": {},
   "outputs": [
    {
     "name": "stdout",
     "output_type": "stream",
     "text": [
      "What is your username ?David\n",
      "What is your password ?12345\n",
      "you are logged in\n",
      "What do you want to do:\n",
      "\t(1) Send a new message\n",
      "\t(2) Read my messages\n",
      "\t(3) Exit2\n",
      "{'From': 'theo@hello.com', 'To': 'david@super.com', 'content': 'hello is everything alright'}\n",
      "{'From': 'theo@hello.com', 'To': 'david@super.com', 'content': 'bonjour tout le monde'}\n",
      "What do you want to do:\n",
      "\t(1) Send a new message\n",
      "\t(2) Read my messages\n",
      "\t(3) Exit3\n"
     ]
    }
   ],
   "source": [
    "import json\n",
    "\n",
    "f = open('network.json', 'r')\n",
    "network = json.load(f)\n",
    "users = network['users']\n",
    "f.close()\n",
    "\n",
    "def save_to_json(users_list):\n",
    "    network = {\"users\": users_list}\n",
    "    f = open('network.json', 'w')\n",
    "    f.write(json.dumps(network, indent=4))\n",
    "    f.close()\n",
    "    \n",
    "\n",
    "def create_new_user():\n",
    "    username = input('username ?')\n",
    "    password = input('password ?')\n",
    "    email = input('email ?')\n",
    "    user = {\n",
    "        \"username\": username,\n",
    "        \"password\": password,\n",
    "        \"email\": email,\n",
    "        \"message_received\":[],\n",
    "        \"message_sent\": []\n",
    "    }\n",
    "    users.append(user)\n",
    "    save_to_json(users)\n",
    "    return user\n",
    "    \n",
    "def log_in():\n",
    "    username = input('What is your username ?')\n",
    "    password = input('What is your password ?')\n",
    "\n",
    "    for user in users:\n",
    "        if user['username'] == username:\n",
    "            for i in range(3):\n",
    "                if user['password'] == password:\n",
    "                    print('you are logged in')\n",
    "                    return user\n",
    "                else:\n",
    "                    password = input('Password wrong please enter it again ?')\n",
    "    print(\" We didn't find any user matching those credentials do you want to create one ?\")\n",
    "    answer = int(input(\"\\n\\t(1)Yes\\n\\t(2)No\"))\n",
    "    if answer == 1:\n",
    "        user = create_new_user()\n",
    "        return user\n",
    "    else:\n",
    "        return False\n",
    "\n",
    "def send_message(connected_user, send_to, content):\n",
    "    for user in users:\n",
    "        if user['email']==send_to or user['username']==send_to:\n",
    "            message = {\n",
    "                'From': connected_user['email'],\n",
    "                'To': user['email'],\n",
    "                'content':content\n",
    "                }\n",
    "            user['message_received'].append(message)\n",
    "            connected_user['message_sent'].append(message)\n",
    "            break\n",
    "    save_to_json(users)\n",
    "    return message\n",
    "\n",
    "def main():\n",
    "    connected_user = log_in()\n",
    "    menu = \"What do you want to do:\\n\\t(1) Send a new message\\n\\t(2) Read my messages\\n\\t(3) Exit\"\n",
    "    \n",
    "    if connected_user != False:\n",
    "        choice = int(input(menu))\n",
    "        while choice != 3:\n",
    "            if choice == 1:\n",
    "                send_to = input('who do you want to send it to ?')\n",
    "                content = input('what is the content of your message')\n",
    "                message = send_message(connected_user ,send_to, content)\n",
    "                print('message sent: \\n{}'.format(message))\n",
    "            if choice == 2:\n",
    "                for message in connected_user['message_received']:\n",
    "                    print(message)\n",
    "            choice = int(input(menu))\n",
    "                    \n",
    "main()\n",
    "        "
   ]
  },
  {
   "cell_type": "markdown",
   "metadata": {},
   "source": [
    "## Exercise 2"
   ]
  },
  {
   "cell_type": "markdown",
   "metadata": {},
   "source": [
    "### Part 1"
   ]
  },
  {
   "cell_type": "code",
   "execution_count": 24,
   "metadata": {},
   "outputs": [
    {
     "name": "stdout",
     "output_type": "stream",
     "text": [
      "16\n"
     ]
    }
   ],
   "source": [
    "import random\n",
    "\n",
    "def roll_dice_until_double():\n",
    "    double = False\n",
    "    count = 0\n",
    "    first = 3\n",
    "    second = 2\n",
    "    while first != second:\n",
    "        first = random.randrange(1,7)\n",
    "        second = random.randrange(1,7)\n",
    "        count += 1\n",
    "    print(count)\n",
    "            \n",
    "\n",
    "\n",
    "    \n",
    "roll_dice_until_double()"
   ]
  },
  {
   "cell_type": "code",
   "execution_count": null,
   "metadata": {},
   "outputs": [],
   "source": []
  },
  {
   "cell_type": "code",
   "execution_count": null,
   "metadata": {},
   "outputs": [],
   "source": []
  }
 ],
 "metadata": {
  "kernelspec": {
   "display_name": "Python 3",
   "language": "python",
   "name": "python3"
  },
  "language_info": {
   "codemirror_mode": {
    "name": "ipython",
    "version": 3
   },
   "file_extension": ".py",
   "mimetype": "text/x-python",
   "name": "python",
   "nbconvert_exporter": "python",
   "pygments_lexer": "ipython3",
   "version": "3.7.1"
  }
 },
 "nbformat": 4,
 "nbformat_minor": 2
}
