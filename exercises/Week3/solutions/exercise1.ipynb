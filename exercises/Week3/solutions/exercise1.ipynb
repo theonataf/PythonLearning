{
 "cells": [
  {
   "cell_type": "code",
   "execution_count": 9,
   "metadata": {},
   "outputs": [
    {
     "name": "stdout",
     "output_type": "stream",
     "text": [
      "This program prints a sentence of random words.\n",
      "You can choose the length of the sentence.\n",
      "Please type a length between 2 and 20: 15\n",
      "your sentence is : \n",
      "\n",
      "hemodialysis sanctuarises zooier rein quean swiler yack outserved intranuclear sculch misspell ferrules disassembled leaderenes calcinable\n"
     ]
    }
   ],
   "source": [
    "import random\n",
    "\n",
    "file_to_read = 'sowpods.txt'\n",
    "\n",
    "def get_words_from_file():\n",
    "    with open(file_to_read, 'r') as f:\n",
    "        words = [word.strip().lower() for word in f]\n",
    "        #keep word with strip and lower from all the words from the list\n",
    "        return words\n",
    "\n",
    "def get_random_sentence(length):\n",
    "    words = get_words_from_file()\n",
    "    random_words = random.choices(words, k=length)\n",
    "    # first way\n",
    "    #sentence = ''\n",
    "    #for word in random_words:\n",
    "    #    sentence += word + ' '\n",
    "    # second way (the better one)\n",
    "    sentence = ' '.join(random_words)\n",
    "        \n",
    "    return sentence\n",
    "\n",
    "def main():\n",
    "    info = \"\"\"\\\n",
    "This program prints a sentence of random words.\n",
    "You can choose the length of the sentence.\"\"\"\n",
    "    print(info)\n",
    "    length = input(\"Please type a length between 2 and 20: \").strip()\n",
    "    if length.isdigit() == False:\n",
    "        print('error it is not a digit')\n",
    "        return\n",
    "    else:\n",
    "        length = int(length)\n",
    "    \n",
    "    if (length < 2) or (length > 20):\n",
    "        print(\"Length must be between 2 and 20!\")\n",
    "        return\n",
    "    \n",
    "    print('your sentence is : \\n')\n",
    "    print(get_random_sentence(length))\n",
    "    \n",
    "\n",
    "main()"
   ]
  },
  {
   "cell_type": "code",
   "execution_count": null,
   "metadata": {},
   "outputs": [],
   "source": []
  }
 ],
 "metadata": {
  "kernelspec": {
   "display_name": "Python 3",
   "language": "python",
   "name": "python3"
  },
  "language_info": {
   "codemirror_mode": {
    "name": "ipython",
    "version": 3
   },
   "file_extension": ".py",
   "mimetype": "text/x-python",
   "name": "python",
   "nbconvert_exporter": "python",
   "pygments_lexer": "ipython3",
   "version": "3.7.1"
  }
 },
 "nbformat": 4,
 "nbformat_minor": 2
}
